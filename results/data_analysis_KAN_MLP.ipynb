{
 "cells": [
  {
   "cell_type": "code",
   "execution_count": 1,
   "metadata": {},
   "outputs": [],
   "source": [
    "import pandas as pd\n",
    "import json\n",
    "import os \n",
    "import numpy as np\n",
    "\n",
    "dir_files = os.listdir(os.getcwd())"
   ]
  },
  {
   "cell_type": "code",
   "execution_count": 2,
   "metadata": {},
   "outputs": [],
   "source": [
    "data_train_test = []\n",
    "data_pred_real_MC_CSP = []\n",
    "data_pred_real_MC_RAW = []\n",
    "data_pred_real_BI_RAW = []\n",
    "data_pred_real_BI_CSP = []\n",
    "data_time = []\n",
    "for i in range(1,10):\n",
    "    path=os.path.join(os.getcwd(), str(i))\n",
    "    files =os.listdir(path)\n",
    "    for j in files:\n",
    "        with open(os.path.join(path,j), 'r') as file:\n",
    "            user_data=json.load(file)\n",
    "            df1 = pd.DataFrame(user_data['train']).assign(stage='train', user=i, cond='_'.join(j.split('_')[0:-1]))\n",
    "            df2 = pd.DataFrame(user_data['test']).assign(stage='test', user=i, cond='_'.join(j.split('_')[0:-1]))\n",
    "            data_train_test.append(pd.concat([df1, df2]))\n",
    "\n",
    "            if 'two' in j.split('_') and 'RAW' in j.split('_'):\n",
    "                df1 = pd.DataFrame(list(zip(user_data['pred'], user_data['real'])), columns=['pred', 'real']).assign(user=i, cond='_'.join(j.split('_')[0:-1]))\n",
    "                data_pred_real_BI_RAW.append(df1)\n",
    "            if 'multiclass' in j.split('_') and 'RAW' in j.split('_'):\n",
    "                df1 = pd.DataFrame(list(zip(user_data['pred'], user_data['real'])), columns=['pred', 'real']).assign(user=i, cond='_'.join(j.split('_')[0:-1]))\n",
    "                data_pred_real_MC_RAW.append(df1)        \n",
    "            if 'two' in j.split('_') and 'CSP' in j.split('_'):\n",
    "                df1 = pd.DataFrame(list(zip(user_data['pred'], user_data['real'])), columns=['pred', 'real']).assign(user=i, cond='_'.join(j.split('_')[0:-1]))\n",
    "                data_pred_real_BI_CSP.append(df1)\n",
    "            if 'multiclass' in j.split('_') and 'CSP' in j.split('_'):\n",
    "                df1 = pd.DataFrame(list(zip(user_data['pred'], user_data['real'])), columns=['pred', 'real']).assign(user=i, cond='_'.join(j.split('_')[0:-1]))\n",
    "                data_pred_real_MC_CSP.append(df1)\n",
    "            data_time.append(pd.DataFrame(zip([user_data['time'][0]], [user_data['time'][1]]), columns=['train', 'pred']).assign(user=i, cond='_'.join(j.split('_')[0:-1])))  \n",
    "\n"
   ]
  },
  {
   "cell_type": "code",
   "execution_count": 3,
   "metadata": {},
   "outputs": [
    {
     "name": "stderr",
     "output_type": "stream",
     "text": [
      "C:\\Users\\JaimeAndresRiascosSa\\AppData\\Local\\Temp\\ipykernel_11156\\2949060147.py:3: FutureWarning: The default value of numeric_only in DataFrameGroupBy.mean is deprecated. In a future version, numeric_only will default to False. Either specify numeric_only or select only columns which should be valid for the function.\n",
      "  df_multiclass=pd.concat([df_train_test[(df_train_test.cond=='multiclass_CSP_KAN') & (df_train_test.stage=='train')].groupby('user').mean().mean(axis=1).to_frame(\"multiclass_CSP_KAN_Train\"),\n",
      "C:\\Users\\JaimeAndresRiascosSa\\AppData\\Local\\Temp\\ipykernel_11156\\2949060147.py:4: FutureWarning: The default value of numeric_only in DataFrameGroupBy.mean is deprecated. In a future version, numeric_only will default to False. Either specify numeric_only or select only columns which should be valid for the function.\n",
      "  df_train_test[(df_train_test.cond=='multiclass_CSP_KAN') & (df_train_test.stage=='test')].groupby('user').mean().mean(axis=1).to_frame(\"multiclass_CSP_KAN_Test\"),\n",
      "C:\\Users\\JaimeAndresRiascosSa\\AppData\\Local\\Temp\\ipykernel_11156\\2949060147.py:5: FutureWarning: The default value of numeric_only in DataFrameGroupBy.mean is deprecated. In a future version, numeric_only will default to False. Either specify numeric_only or select only columns which should be valid for the function.\n",
      "  df_train_test[(df_train_test.cond=='multiclass_CSP_MLP') & (df_train_test.stage=='train')].groupby('user').mean().mean(axis=1).to_frame(\"multiclass_CSP_MLP_Train\"),\n",
      "C:\\Users\\JaimeAndresRiascosSa\\AppData\\Local\\Temp\\ipykernel_11156\\2949060147.py:6: FutureWarning: The default value of numeric_only in DataFrameGroupBy.mean is deprecated. In a future version, numeric_only will default to False. Either specify numeric_only or select only columns which should be valid for the function.\n",
      "  df_train_test[(df_train_test.cond=='multiclass_CSP_MLP') & (df_train_test.stage=='test')].groupby('user').mean().mean(axis=1).to_frame(\"multiclass_CSP_MLP_Test\"),\n",
      "C:\\Users\\JaimeAndresRiascosSa\\AppData\\Local\\Temp\\ipykernel_11156\\2949060147.py:7: FutureWarning: The default value of numeric_only in DataFrameGroupBy.mean is deprecated. In a future version, numeric_only will default to False. Either specify numeric_only or select only columns which should be valid for the function.\n",
      "  df_train_test[(df_train_test.cond=='multiclass_RAW_KAN') & (df_train_test.stage=='train')].groupby('user').mean().mean(axis=1).to_frame(\"multiclass_RAW_KAN_Train\"),\n",
      "C:\\Users\\JaimeAndresRiascosSa\\AppData\\Local\\Temp\\ipykernel_11156\\2949060147.py:8: FutureWarning: The default value of numeric_only in DataFrameGroupBy.mean is deprecated. In a future version, numeric_only will default to False. Either specify numeric_only or select only columns which should be valid for the function.\n",
      "  df_train_test[(df_train_test.cond=='multiclass_RAW_KAN') & (df_train_test.stage=='test')].groupby('user').mean().mean(axis=1).to_frame(\"multiclass_RAW_KAN_Test\"),\n",
      "C:\\Users\\JaimeAndresRiascosSa\\AppData\\Local\\Temp\\ipykernel_11156\\2949060147.py:9: FutureWarning: The default value of numeric_only in DataFrameGroupBy.mean is deprecated. In a future version, numeric_only will default to False. Either specify numeric_only or select only columns which should be valid for the function.\n",
      "  df_train_test[(df_train_test.cond=='multiclass_RAW_MLP') & (df_train_test.stage=='train')].groupby('user').mean().mean(axis=1).to_frame(\"multiclass_RAW_MLP_Train\"),\n",
      "C:\\Users\\JaimeAndresRiascosSa\\AppData\\Local\\Temp\\ipykernel_11156\\2949060147.py:10: FutureWarning: The default value of numeric_only in DataFrameGroupBy.mean is deprecated. In a future version, numeric_only will default to False. Either specify numeric_only or select only columns which should be valid for the function.\n",
      "  df_train_test[(df_train_test.cond=='multiclass_RAW_MLP') & (df_train_test.stage=='test')].groupby('user').mean().mean(axis=1).to_frame(\"multiclass_RAW_MLP_Test\")], axis=1).reset_index()\n",
      "C:\\Users\\JaimeAndresRiascosSa\\AppData\\Local\\Temp\\ipykernel_11156\\2949060147.py:12: FutureWarning: The default value of numeric_only in DataFrameGroupBy.mean is deprecated. In a future version, numeric_only will default to False. Either specify numeric_only or select only columns which should be valid for the function.\n",
      "  df_twoclass=pd.concat([df_train_test[(df_train_test.cond=='two_class_CSP_KAN') & (df_train_test.stage=='train')].groupby('user').mean().mean(axis=1).to_frame(\"twoclass_CSP_KAN_Train\"),\n",
      "C:\\Users\\JaimeAndresRiascosSa\\AppData\\Local\\Temp\\ipykernel_11156\\2949060147.py:13: FutureWarning: The default value of numeric_only in DataFrameGroupBy.mean is deprecated. In a future version, numeric_only will default to False. Either specify numeric_only or select only columns which should be valid for the function.\n",
      "  df_train_test[(df_train_test.cond=='two_class_CSP_KAN') & (df_train_test.stage=='test')].groupby('user').mean().mean(axis=1).to_frame(\"twoclass_CSP_KAN_Test\"),\n",
      "C:\\Users\\JaimeAndresRiascosSa\\AppData\\Local\\Temp\\ipykernel_11156\\2949060147.py:14: FutureWarning: The default value of numeric_only in DataFrameGroupBy.mean is deprecated. In a future version, numeric_only will default to False. Either specify numeric_only or select only columns which should be valid for the function.\n",
      "  df_train_test[(df_train_test.cond=='two_class_CSP_MLP') & (df_train_test.stage=='train')].groupby('user').mean().mean(axis=1).to_frame(\"twoclass_CSP_MLP_Train\"),\n",
      "C:\\Users\\JaimeAndresRiascosSa\\AppData\\Local\\Temp\\ipykernel_11156\\2949060147.py:15: FutureWarning: The default value of numeric_only in DataFrameGroupBy.mean is deprecated. In a future version, numeric_only will default to False. Either specify numeric_only or select only columns which should be valid for the function.\n",
      "  df_train_test[(df_train_test.cond=='two_class_CSP_MLP') & (df_train_test.stage=='test')].groupby('user').mean().mean(axis=1).to_frame(\"twoclass_CSP_MLP_Test\"),\n",
      "C:\\Users\\JaimeAndresRiascosSa\\AppData\\Local\\Temp\\ipykernel_11156\\2949060147.py:16: FutureWarning: The default value of numeric_only in DataFrameGroupBy.mean is deprecated. In a future version, numeric_only will default to False. Either specify numeric_only or select only columns which should be valid for the function.\n",
      "  df_train_test[(df_train_test.cond=='two_class_RAW_KAN') & (df_train_test.stage=='train')].groupby('user').mean().mean(axis=1).to_frame(\"twoclass_RAW_KAN_Train\"),\n",
      "C:\\Users\\JaimeAndresRiascosSa\\AppData\\Local\\Temp\\ipykernel_11156\\2949060147.py:17: FutureWarning: The default value of numeric_only in DataFrameGroupBy.mean is deprecated. In a future version, numeric_only will default to False. Either specify numeric_only or select only columns which should be valid for the function.\n",
      "  df_train_test[(df_train_test.cond=='two_class_RAW_KAN') & (df_train_test.stage=='test')].groupby('user').mean().mean(axis=1).to_frame(\"twoclass_RAW_KAN_Test\"),\n",
      "C:\\Users\\JaimeAndresRiascosSa\\AppData\\Local\\Temp\\ipykernel_11156\\2949060147.py:18: FutureWarning: The default value of numeric_only in DataFrameGroupBy.mean is deprecated. In a future version, numeric_only will default to False. Either specify numeric_only or select only columns which should be valid for the function.\n",
      "  df_train_test[(df_train_test.cond=='two_class_RAW_MLP') & (df_train_test.stage=='train')].groupby('user').mean().mean(axis=1).to_frame(\"twoclass_RAW_MLP_Train\"),\n",
      "C:\\Users\\JaimeAndresRiascosSa\\AppData\\Local\\Temp\\ipykernel_11156\\2949060147.py:19: FutureWarning: The default value of numeric_only in DataFrameGroupBy.mean is deprecated. In a future version, numeric_only will default to False. Either specify numeric_only or select only columns which should be valid for the function.\n",
      "  df_train_test[(df_train_test.cond=='two_class_RAW_MLP') & (df_train_test.stage=='test')].groupby('user').mean().mean(axis=1).to_frame(\"twoclass_RAW_MLP_Test\")], axis=1).reset_index()\n"
     ]
    }
   ],
   "source": [
    "df_train_test=pd.concat(data_train_test).reset_index().drop(columns='index')\n",
    "\n",
    "df_multiclass=pd.concat([df_train_test[(df_train_test.cond=='multiclass_CSP_KAN') & (df_train_test.stage=='train')].groupby('user').mean().mean(axis=1).to_frame(\"multiclass_CSP_KAN_Train\"),\n",
    "           df_train_test[(df_train_test.cond=='multiclass_CSP_KAN') & (df_train_test.stage=='test')].groupby('user').mean().mean(axis=1).to_frame(\"multiclass_CSP_KAN_Test\"),\n",
    "           df_train_test[(df_train_test.cond=='multiclass_CSP_MLP') & (df_train_test.stage=='train')].groupby('user').mean().mean(axis=1).to_frame(\"multiclass_CSP_MLP_Train\"),\n",
    "           df_train_test[(df_train_test.cond=='multiclass_CSP_MLP') & (df_train_test.stage=='test')].groupby('user').mean().mean(axis=1).to_frame(\"multiclass_CSP_MLP_Test\"),\n",
    "           df_train_test[(df_train_test.cond=='multiclass_RAW_KAN') & (df_train_test.stage=='train')].groupby('user').mean().mean(axis=1).to_frame(\"multiclass_RAW_KAN_Train\"),\n",
    "           df_train_test[(df_train_test.cond=='multiclass_RAW_KAN') & (df_train_test.stage=='test')].groupby('user').mean().mean(axis=1).to_frame(\"multiclass_RAW_KAN_Test\"),\n",
    "           df_train_test[(df_train_test.cond=='multiclass_RAW_MLP') & (df_train_test.stage=='train')].groupby('user').mean().mean(axis=1).to_frame(\"multiclass_RAW_MLP_Train\"),\n",
    "           df_train_test[(df_train_test.cond=='multiclass_RAW_MLP') & (df_train_test.stage=='test')].groupby('user').mean().mean(axis=1).to_frame(\"multiclass_RAW_MLP_Test\")], axis=1).reset_index()\n",
    "\n",
    "df_twoclass=pd.concat([df_train_test[(df_train_test.cond=='two_class_CSP_KAN') & (df_train_test.stage=='train')].groupby('user').mean().mean(axis=1).to_frame(\"twoclass_CSP_KAN_Train\"),\n",
    "           df_train_test[(df_train_test.cond=='two_class_CSP_KAN') & (df_train_test.stage=='test')].groupby('user').mean().mean(axis=1).to_frame(\"twoclass_CSP_KAN_Test\"),\n",
    "           df_train_test[(df_train_test.cond=='two_class_CSP_MLP') & (df_train_test.stage=='train')].groupby('user').mean().mean(axis=1).to_frame(\"twoclass_CSP_MLP_Train\"),\n",
    "           df_train_test[(df_train_test.cond=='two_class_CSP_MLP') & (df_train_test.stage=='test')].groupby('user').mean().mean(axis=1).to_frame(\"twoclass_CSP_MLP_Test\"),\n",
    "           df_train_test[(df_train_test.cond=='two_class_RAW_KAN') & (df_train_test.stage=='train')].groupby('user').mean().mean(axis=1).to_frame(\"twoclass_RAW_KAN_Train\"),\n",
    "           df_train_test[(df_train_test.cond=='two_class_RAW_KAN') & (df_train_test.stage=='test')].groupby('user').mean().mean(axis=1).to_frame(\"twoclass_RAW_KAN_Test\"),\n",
    "           df_train_test[(df_train_test.cond=='two_class_RAW_MLP') & (df_train_test.stage=='train')].groupby('user').mean().mean(axis=1).to_frame(\"twoclass_RAW_MLP_Train\"),\n",
    "           df_train_test[(df_train_test.cond=='two_class_RAW_MLP') & (df_train_test.stage=='test')].groupby('user').mean().mean(axis=1).to_frame(\"twoclass_RAW_MLP_Test\")], axis=1).reset_index()\n",
    "\n",
    "df_multiclass.to_csv('multiclass_KAN_MLP.csv', index=False)\n",
    "df_twoclass.to_csv('twoclass_KAN_MLP.csv', index=False)"
   ]
  },
  {
   "cell_type": "code",
   "execution_count": 4,
   "metadata": {},
   "outputs": [
    {
     "data": {
      "text/html": [
       "<div>\n",
       "<style scoped>\n",
       "    .dataframe tbody tr th:only-of-type {\n",
       "        vertical-align: middle;\n",
       "    }\n",
       "\n",
       "    .dataframe tbody tr th {\n",
       "        vertical-align: top;\n",
       "    }\n",
       "\n",
       "    .dataframe thead th {\n",
       "        text-align: right;\n",
       "    }\n",
       "</style>\n",
       "<table border=\"1\" class=\"dataframe\">\n",
       "  <thead>\n",
       "    <tr style=\"text-align: right;\">\n",
       "      <th></th>\n",
       "      <th>user</th>\n",
       "      <th>multiclass_CSP_KAN_Train</th>\n",
       "      <th>multiclass_CSP_KAN_Test</th>\n",
       "      <th>multiclass_CSP_MLP_Train</th>\n",
       "      <th>multiclass_CSP_MLP_Test</th>\n",
       "      <th>multiclass_RAW_KAN_Train</th>\n",
       "      <th>multiclass_RAW_KAN_Test</th>\n",
       "      <th>multiclass_RAW_MLP_Train</th>\n",
       "      <th>multiclass_RAW_MLP_Test</th>\n",
       "    </tr>\n",
       "  </thead>\n",
       "  <tbody>\n",
       "    <tr>\n",
       "      <th>0</th>\n",
       "      <td>1</td>\n",
       "      <td>0.670716</td>\n",
       "      <td>0.530338</td>\n",
       "      <td>0.666777</td>\n",
       "      <td>0.595383</td>\n",
       "      <td>0.463106</td>\n",
       "      <td>0.248644</td>\n",
       "      <td>0.478044</td>\n",
       "      <td>0.246931</td>\n",
       "    </tr>\n",
       "    <tr>\n",
       "      <th>1</th>\n",
       "      <td>2</td>\n",
       "      <td>0.614104</td>\n",
       "      <td>0.509713</td>\n",
       "      <td>0.637827</td>\n",
       "      <td>0.562471</td>\n",
       "      <td>0.622419</td>\n",
       "      <td>0.250119</td>\n",
       "      <td>0.457563</td>\n",
       "      <td>0.252387</td>\n",
       "    </tr>\n",
       "    <tr>\n",
       "      <th>2</th>\n",
       "      <td>3</td>\n",
       "      <td>0.689434</td>\n",
       "      <td>0.569688</td>\n",
       "      <td>0.661586</td>\n",
       "      <td>0.608150</td>\n",
       "      <td>0.736537</td>\n",
       "      <td>0.254737</td>\n",
       "      <td>0.456888</td>\n",
       "      <td>0.251137</td>\n",
       "    </tr>\n",
       "    <tr>\n",
       "      <th>3</th>\n",
       "      <td>4</td>\n",
       "      <td>0.499343</td>\n",
       "      <td>0.353921</td>\n",
       "      <td>0.500326</td>\n",
       "      <td>0.408417</td>\n",
       "      <td>0.641450</td>\n",
       "      <td>0.250369</td>\n",
       "      <td>0.471575</td>\n",
       "      <td>0.250763</td>\n",
       "    </tr>\n",
       "    <tr>\n",
       "      <th>4</th>\n",
       "      <td>5</td>\n",
       "      <td>0.469400</td>\n",
       "      <td>0.355888</td>\n",
       "      <td>0.434083</td>\n",
       "      <td>0.362512</td>\n",
       "      <td>0.377731</td>\n",
       "      <td>0.251512</td>\n",
       "      <td>0.473625</td>\n",
       "      <td>0.251362</td>\n",
       "    </tr>\n",
       "    <tr>\n",
       "      <th>5</th>\n",
       "      <td>6</td>\n",
       "      <td>0.502408</td>\n",
       "      <td>0.374804</td>\n",
       "      <td>0.510304</td>\n",
       "      <td>0.385067</td>\n",
       "      <td>0.596231</td>\n",
       "      <td>0.251656</td>\n",
       "      <td>0.468769</td>\n",
       "      <td>0.251412</td>\n",
       "    </tr>\n",
       "    <tr>\n",
       "      <th>6</th>\n",
       "      <td>7</td>\n",
       "      <td>0.629201</td>\n",
       "      <td>0.509267</td>\n",
       "      <td>0.638441</td>\n",
       "      <td>0.543250</td>\n",
       "      <td>0.608594</td>\n",
       "      <td>0.253081</td>\n",
       "      <td>0.477888</td>\n",
       "      <td>0.250637</td>\n",
       "    </tr>\n",
       "    <tr>\n",
       "      <th>7</th>\n",
       "      <td>8</td>\n",
       "      <td>0.679179</td>\n",
       "      <td>0.558175</td>\n",
       "      <td>0.690938</td>\n",
       "      <td>0.608625</td>\n",
       "      <td>0.658881</td>\n",
       "      <td>0.253037</td>\n",
       "      <td>0.458456</td>\n",
       "      <td>0.248812</td>\n",
       "    </tr>\n",
       "    <tr>\n",
       "      <th>8</th>\n",
       "      <td>9</td>\n",
       "      <td>0.647343</td>\n",
       "      <td>0.482146</td>\n",
       "      <td>0.663240</td>\n",
       "      <td>0.562567</td>\n",
       "      <td>0.682275</td>\n",
       "      <td>0.254587</td>\n",
       "      <td>0.475669</td>\n",
       "      <td>0.251875</td>\n",
       "    </tr>\n",
       "  </tbody>\n",
       "</table>\n",
       "</div>"
      ],
      "text/plain": [
       "   user  multiclass_CSP_KAN_Train  multiclass_CSP_KAN_Test  \\\n",
       "0     1                  0.670716                 0.530338   \n",
       "1     2                  0.614104                 0.509713   \n",
       "2     3                  0.689434                 0.569688   \n",
       "3     4                  0.499343                 0.353921   \n",
       "4     5                  0.469400                 0.355888   \n",
       "5     6                  0.502408                 0.374804   \n",
       "6     7                  0.629201                 0.509267   \n",
       "7     8                  0.679179                 0.558175   \n",
       "8     9                  0.647343                 0.482146   \n",
       "\n",
       "   multiclass_CSP_MLP_Train  multiclass_CSP_MLP_Test  \\\n",
       "0                  0.666777                 0.595383   \n",
       "1                  0.637827                 0.562471   \n",
       "2                  0.661586                 0.608150   \n",
       "3                  0.500326                 0.408417   \n",
       "4                  0.434083                 0.362512   \n",
       "5                  0.510304                 0.385067   \n",
       "6                  0.638441                 0.543250   \n",
       "7                  0.690938                 0.608625   \n",
       "8                  0.663240                 0.562567   \n",
       "\n",
       "   multiclass_RAW_KAN_Train  multiclass_RAW_KAN_Test  \\\n",
       "0                  0.463106                 0.248644   \n",
       "1                  0.622419                 0.250119   \n",
       "2                  0.736537                 0.254737   \n",
       "3                  0.641450                 0.250369   \n",
       "4                  0.377731                 0.251512   \n",
       "5                  0.596231                 0.251656   \n",
       "6                  0.608594                 0.253081   \n",
       "7                  0.658881                 0.253037   \n",
       "8                  0.682275                 0.254587   \n",
       "\n",
       "   multiclass_RAW_MLP_Train  multiclass_RAW_MLP_Test  \n",
       "0                  0.478044                 0.246931  \n",
       "1                  0.457563                 0.252387  \n",
       "2                  0.456888                 0.251137  \n",
       "3                  0.471575                 0.250763  \n",
       "4                  0.473625                 0.251362  \n",
       "5                  0.468769                 0.251412  \n",
       "6                  0.477888                 0.250637  \n",
       "7                  0.458456                 0.248812  \n",
       "8                  0.475669                 0.251875  "
      ]
     },
     "execution_count": 4,
     "metadata": {},
     "output_type": "execute_result"
    }
   ],
   "source": [
    "df_multiclass"
   ]
  },
  {
   "cell_type": "code",
   "execution_count": 5,
   "metadata": {},
   "outputs": [
    {
     "name": "stdout",
     "output_type": "stream",
     "text": [
      "Column 'user': Max value = 9, Row = 8\n",
      "Column 'multiclass_CSP_KAN_Train': Max value = 0.6894342383742333, Row = 2\n",
      "Column 'multiclass_CSP_KAN_Test': Max value = 0.5696875087916851, Row = 2\n",
      "Column 'multiclass_CSP_MLP_Train': Max value = 0.690937976837158, Row = 7\n",
      "Column 'multiclass_CSP_MLP_Test': Max value = 0.6086250084638598, Row = 7\n",
      "Column 'multiclass_RAW_KAN_Train': Max value = 0.7365374997258186, Row = 2\n",
      "Column 'multiclass_RAW_KAN_Test': Max value = 0.25473749861121175, Row = 2\n",
      "Column 'multiclass_RAW_MLP_Train': Max value = 0.4780437494814397, Row = 0\n",
      "Column 'multiclass_RAW_MLP_Test': Max value = 0.25238749958574774, Row = 1\n"
     ]
    }
   ],
   "source": [
    "max_row_indices = df_multiclass.idxmax()\n",
    "\n",
    "for col, row_idx in max_row_indices.items():\n",
    "    max_value = df_multiclass.at[row_idx, col]  \n",
    "    print(f\"Column '{col}': Max value = {max_value}, Row = {row_idx}\")"
   ]
  },
  {
   "cell_type": "code",
   "execution_count": 6,
   "metadata": {},
   "outputs": [
    {
     "name": "stdout",
     "output_type": "stream",
     "text": [
      "Column 'user': Max value = 9, Row = 8\n",
      "Column 'twoclass_CSP_KAN_Train': Max value = 0.9998055556416512, Row = 7\n",
      "Column 'twoclass_CSP_KAN_Test': Max value = 0.9502916690707204, Row = 7\n",
      "Column 'twoclass_CSP_MLP_Train': Max value = 0.983314717411995, Row = 7\n",
      "Column 'twoclass_CSP_MLP_Test': Max value = 0.975400023162365, Row = 7\n",
      "Column 'twoclass_RAW_KAN_Train': Max value = 0.8815625002980232, Row = 0\n",
      "Column 'twoclass_RAW_KAN_Test': Max value = 0.505106252282858, Row = 2\n",
      "Column 'twoclass_RAW_MLP_Train': Max value = 0.7629187506437302, Row = 1\n",
      "Column 'twoclass_RAW_MLP_Test': Max value = 0.5032000032067299, Row = 2\n"
     ]
    }
   ],
   "source": [
    "max_row_indices = df_twoclass.idxmax()\n",
    "\n",
    "for col, row_idx in max_row_indices.items():\n",
    "    max_value = df_twoclass.at[row_idx, col]  \n",
    "    print(f\"Column '{col}': Max value = {max_value}, Row = {row_idx}\")"
   ]
  },
  {
   "cell_type": "code",
   "execution_count": 7,
   "metadata": {},
   "outputs": [],
   "source": [
    "from sklearn.metrics import accuracy_score\n",
    "\n",
    "df_pred_RAW_BI=pd.concat(data_pred_real_BI_RAW)\n",
    "df_pred_CSP_BI=pd.concat(data_pred_real_BI_CSP)\n",
    "df_pred_CSP_MC=pd.concat(data_pred_real_MC_CSP)\n",
    "df_pred_RAW_MC=pd.concat(data_pred_real_MC_RAW)\n",
    "\n",
    "def calculate_user_accuracies(df):\n",
    "    results = {}  \n",
    "\n",
    "    for cond in df['cond'].unique():\n",
    "        cond_results = []\n",
    "        for user in df['user'].unique():\n",
    "            user_data = df[(df['cond'] == cond) & (df['user'] == user)]\n",
    "            accuracy = accuracy_score(user_data['real'], user_data['pred'])\n",
    "            cond_results.append(accuracy)\n",
    "        results[cond] = cond_results  \n",
    "\n",
    "    return pd.DataFrame(results)\n",
    "\n",
    "df_pred = pd.concat([calculate_user_accuracies(df_pred_RAW_BI),\n",
    "                     calculate_user_accuracies(df_pred_CSP_BI),\n",
    "                     calculate_user_accuracies(df_pred_RAW_MC),\n",
    "                     calculate_user_accuracies(df_pred_CSP_MC)], axis=1)\n",
    "\n",
    "df_pred.to_csv('pred_KAN_MLP.csv', index=False)"
   ]
  },
  {
   "cell_type": "code",
   "execution_count": 84,
   "metadata": {},
   "outputs": [],
   "source": [
    "\n",
    "df_time=pd.concat(data_time)\n",
    "\n",
    "grouped_df=df_time.groupby(['user', 'cond']).mean().reset_index()\n",
    "\n",
    "pivoted_df = grouped_df.pivot(index='user', columns='cond', values=['train', 'pred'])\n",
    "\n",
    "pivoted_df.columns = ['_'.join(col).strip() for col in pivoted_df.columns.values]\n",
    "\n",
    "pivoted_df = pivoted_df.reset_index()\n",
    "\n",
    "pivoted_df.to_csv('time_train_pred_KAN_MLP.csv', index=False)"
   ]
  },
  {
   "cell_type": "code",
   "execution_count": 87,
   "metadata": {},
   "outputs": [
    {
     "data": {
      "application/vnd.plotly.v1+json": {
       "config": {
        "plotlyServerURL": "https://plot.ly"
       },
       "data": [
        {
         "name": "KAN",
         "text": [
          "1137.7603591548072",
          "3182.6902951134575",
          "711.1216954920027",
          "1879.9982852405972"
         ],
         "textposition": "outside",
         "texttemplate": "%{text:.0f}",
         "type": "bar",
         "x": [
          [
           "multiclass",
           "multiclass",
           "two_class",
           "two_class"
          ],
          [
           "CSP",
           "RAW",
           "CSP",
           "RAW"
          ]
         ],
         "y": [
          1137.7603591548072,
          3182.6902951134575,
          711.1216954920027,
          1879.9982852405972
         ]
        },
        {
         "name": "MLP",
         "text": [
          "70.04904980129666",
          "209.3870697816213",
          "49.73887798521254",
          "183.5885095861223"
         ],
         "textposition": "outside",
         "texttemplate": "%{text:.0f}",
         "type": "bar",
         "x": [
          [
           "multiclass",
           "multiclass",
           "two_class",
           "two_class"
          ],
          [
           "CSP",
           "RAW",
           "CSP",
           "RAW"
          ]
         ],
         "y": [
          70.04904980129666,
          209.3870697816213,
          49.73887798521254,
          183.5885095861223
         ]
        }
       ],
       "layout": {
        "legend": {
         "orientation": "h",
         "x": 0.4,
         "y": 1.15
        },
        "template": {
         "data": {
          "bar": [
           {
            "error_x": {
             "color": "#2a3f5f"
            },
            "error_y": {
             "color": "#2a3f5f"
            },
            "marker": {
             "line": {
              "color": "#E5ECF6",
              "width": 0.5
             },
             "pattern": {
              "fillmode": "overlay",
              "size": 10,
              "solidity": 0.2
             }
            },
            "type": "bar"
           }
          ],
          "barpolar": [
           {
            "marker": {
             "line": {
              "color": "#E5ECF6",
              "width": 0.5
             },
             "pattern": {
              "fillmode": "overlay",
              "size": 10,
              "solidity": 0.2
             }
            },
            "type": "barpolar"
           }
          ],
          "carpet": [
           {
            "aaxis": {
             "endlinecolor": "#2a3f5f",
             "gridcolor": "white",
             "linecolor": "white",
             "minorgridcolor": "white",
             "startlinecolor": "#2a3f5f"
            },
            "baxis": {
             "endlinecolor": "#2a3f5f",
             "gridcolor": "white",
             "linecolor": "white",
             "minorgridcolor": "white",
             "startlinecolor": "#2a3f5f"
            },
            "type": "carpet"
           }
          ],
          "choropleth": [
           {
            "colorbar": {
             "outlinewidth": 0,
             "ticks": ""
            },
            "type": "choropleth"
           }
          ],
          "contour": [
           {
            "colorbar": {
             "outlinewidth": 0,
             "ticks": ""
            },
            "colorscale": [
             [
              0,
              "#0d0887"
             ],
             [
              0.1111111111111111,
              "#46039f"
             ],
             [
              0.2222222222222222,
              "#7201a8"
             ],
             [
              0.3333333333333333,
              "#9c179e"
             ],
             [
              0.4444444444444444,
              "#bd3786"
             ],
             [
              0.5555555555555556,
              "#d8576b"
             ],
             [
              0.6666666666666666,
              "#ed7953"
             ],
             [
              0.7777777777777778,
              "#fb9f3a"
             ],
             [
              0.8888888888888888,
              "#fdca26"
             ],
             [
              1,
              "#f0f921"
             ]
            ],
            "type": "contour"
           }
          ],
          "contourcarpet": [
           {
            "colorbar": {
             "outlinewidth": 0,
             "ticks": ""
            },
            "type": "contourcarpet"
           }
          ],
          "heatmap": [
           {
            "colorbar": {
             "outlinewidth": 0,
             "ticks": ""
            },
            "colorscale": [
             [
              0,
              "#0d0887"
             ],
             [
              0.1111111111111111,
              "#46039f"
             ],
             [
              0.2222222222222222,
              "#7201a8"
             ],
             [
              0.3333333333333333,
              "#9c179e"
             ],
             [
              0.4444444444444444,
              "#bd3786"
             ],
             [
              0.5555555555555556,
              "#d8576b"
             ],
             [
              0.6666666666666666,
              "#ed7953"
             ],
             [
              0.7777777777777778,
              "#fb9f3a"
             ],
             [
              0.8888888888888888,
              "#fdca26"
             ],
             [
              1,
              "#f0f921"
             ]
            ],
            "type": "heatmap"
           }
          ],
          "heatmapgl": [
           {
            "colorbar": {
             "outlinewidth": 0,
             "ticks": ""
            },
            "colorscale": [
             [
              0,
              "#0d0887"
             ],
             [
              0.1111111111111111,
              "#46039f"
             ],
             [
              0.2222222222222222,
              "#7201a8"
             ],
             [
              0.3333333333333333,
              "#9c179e"
             ],
             [
              0.4444444444444444,
              "#bd3786"
             ],
             [
              0.5555555555555556,
              "#d8576b"
             ],
             [
              0.6666666666666666,
              "#ed7953"
             ],
             [
              0.7777777777777778,
              "#fb9f3a"
             ],
             [
              0.8888888888888888,
              "#fdca26"
             ],
             [
              1,
              "#f0f921"
             ]
            ],
            "type": "heatmapgl"
           }
          ],
          "histogram": [
           {
            "marker": {
             "pattern": {
              "fillmode": "overlay",
              "size": 10,
              "solidity": 0.2
             }
            },
            "type": "histogram"
           }
          ],
          "histogram2d": [
           {
            "colorbar": {
             "outlinewidth": 0,
             "ticks": ""
            },
            "colorscale": [
             [
              0,
              "#0d0887"
             ],
             [
              0.1111111111111111,
              "#46039f"
             ],
             [
              0.2222222222222222,
              "#7201a8"
             ],
             [
              0.3333333333333333,
              "#9c179e"
             ],
             [
              0.4444444444444444,
              "#bd3786"
             ],
             [
              0.5555555555555556,
              "#d8576b"
             ],
             [
              0.6666666666666666,
              "#ed7953"
             ],
             [
              0.7777777777777778,
              "#fb9f3a"
             ],
             [
              0.8888888888888888,
              "#fdca26"
             ],
             [
              1,
              "#f0f921"
             ]
            ],
            "type": "histogram2d"
           }
          ],
          "histogram2dcontour": [
           {
            "colorbar": {
             "outlinewidth": 0,
             "ticks": ""
            },
            "colorscale": [
             [
              0,
              "#0d0887"
             ],
             [
              0.1111111111111111,
              "#46039f"
             ],
             [
              0.2222222222222222,
              "#7201a8"
             ],
             [
              0.3333333333333333,
              "#9c179e"
             ],
             [
              0.4444444444444444,
              "#bd3786"
             ],
             [
              0.5555555555555556,
              "#d8576b"
             ],
             [
              0.6666666666666666,
              "#ed7953"
             ],
             [
              0.7777777777777778,
              "#fb9f3a"
             ],
             [
              0.8888888888888888,
              "#fdca26"
             ],
             [
              1,
              "#f0f921"
             ]
            ],
            "type": "histogram2dcontour"
           }
          ],
          "mesh3d": [
           {
            "colorbar": {
             "outlinewidth": 0,
             "ticks": ""
            },
            "type": "mesh3d"
           }
          ],
          "parcoords": [
           {
            "line": {
             "colorbar": {
              "outlinewidth": 0,
              "ticks": ""
             }
            },
            "type": "parcoords"
           }
          ],
          "pie": [
           {
            "automargin": true,
            "type": "pie"
           }
          ],
          "scatter": [
           {
            "fillpattern": {
             "fillmode": "overlay",
             "size": 10,
             "solidity": 0.2
            },
            "type": "scatter"
           }
          ],
          "scatter3d": [
           {
            "line": {
             "colorbar": {
              "outlinewidth": 0,
              "ticks": ""
             }
            },
            "marker": {
             "colorbar": {
              "outlinewidth": 0,
              "ticks": ""
             }
            },
            "type": "scatter3d"
           }
          ],
          "scattercarpet": [
           {
            "marker": {
             "colorbar": {
              "outlinewidth": 0,
              "ticks": ""
             }
            },
            "type": "scattercarpet"
           }
          ],
          "scattergeo": [
           {
            "marker": {
             "colorbar": {
              "outlinewidth": 0,
              "ticks": ""
             }
            },
            "type": "scattergeo"
           }
          ],
          "scattergl": [
           {
            "marker": {
             "colorbar": {
              "outlinewidth": 0,
              "ticks": ""
             }
            },
            "type": "scattergl"
           }
          ],
          "scattermapbox": [
           {
            "marker": {
             "colorbar": {
              "outlinewidth": 0,
              "ticks": ""
             }
            },
            "type": "scattermapbox"
           }
          ],
          "scatterpolar": [
           {
            "marker": {
             "colorbar": {
              "outlinewidth": 0,
              "ticks": ""
             }
            },
            "type": "scatterpolar"
           }
          ],
          "scatterpolargl": [
           {
            "marker": {
             "colorbar": {
              "outlinewidth": 0,
              "ticks": ""
             }
            },
            "type": "scatterpolargl"
           }
          ],
          "scatterternary": [
           {
            "marker": {
             "colorbar": {
              "outlinewidth": 0,
              "ticks": ""
             }
            },
            "type": "scatterternary"
           }
          ],
          "surface": [
           {
            "colorbar": {
             "outlinewidth": 0,
             "ticks": ""
            },
            "colorscale": [
             [
              0,
              "#0d0887"
             ],
             [
              0.1111111111111111,
              "#46039f"
             ],
             [
              0.2222222222222222,
              "#7201a8"
             ],
             [
              0.3333333333333333,
              "#9c179e"
             ],
             [
              0.4444444444444444,
              "#bd3786"
             ],
             [
              0.5555555555555556,
              "#d8576b"
             ],
             [
              0.6666666666666666,
              "#ed7953"
             ],
             [
              0.7777777777777778,
              "#fb9f3a"
             ],
             [
              0.8888888888888888,
              "#fdca26"
             ],
             [
              1,
              "#f0f921"
             ]
            ],
            "type": "surface"
           }
          ],
          "table": [
           {
            "cells": {
             "fill": {
              "color": "#EBF0F8"
             },
             "line": {
              "color": "white"
             }
            },
            "header": {
             "fill": {
              "color": "#C8D4E3"
             },
             "line": {
              "color": "white"
             }
            },
            "type": "table"
           }
          ]
         },
         "layout": {
          "annotationdefaults": {
           "arrowcolor": "#2a3f5f",
           "arrowhead": 0,
           "arrowwidth": 1
          },
          "autotypenumbers": "strict",
          "coloraxis": {
           "colorbar": {
            "outlinewidth": 0,
            "ticks": ""
           }
          },
          "colorscale": {
           "diverging": [
            [
             0,
             "#8e0152"
            ],
            [
             0.1,
             "#c51b7d"
            ],
            [
             0.2,
             "#de77ae"
            ],
            [
             0.3,
             "#f1b6da"
            ],
            [
             0.4,
             "#fde0ef"
            ],
            [
             0.5,
             "#f7f7f7"
            ],
            [
             0.6,
             "#e6f5d0"
            ],
            [
             0.7,
             "#b8e186"
            ],
            [
             0.8,
             "#7fbc41"
            ],
            [
             0.9,
             "#4d9221"
            ],
            [
             1,
             "#276419"
            ]
           ],
           "sequential": [
            [
             0,
             "#0d0887"
            ],
            [
             0.1111111111111111,
             "#46039f"
            ],
            [
             0.2222222222222222,
             "#7201a8"
            ],
            [
             0.3333333333333333,
             "#9c179e"
            ],
            [
             0.4444444444444444,
             "#bd3786"
            ],
            [
             0.5555555555555556,
             "#d8576b"
            ],
            [
             0.6666666666666666,
             "#ed7953"
            ],
            [
             0.7777777777777778,
             "#fb9f3a"
            ],
            [
             0.8888888888888888,
             "#fdca26"
            ],
            [
             1,
             "#f0f921"
            ]
           ],
           "sequentialminus": [
            [
             0,
             "#0d0887"
            ],
            [
             0.1111111111111111,
             "#46039f"
            ],
            [
             0.2222222222222222,
             "#7201a8"
            ],
            [
             0.3333333333333333,
             "#9c179e"
            ],
            [
             0.4444444444444444,
             "#bd3786"
            ],
            [
             0.5555555555555556,
             "#d8576b"
            ],
            [
             0.6666666666666666,
             "#ed7953"
            ],
            [
             0.7777777777777778,
             "#fb9f3a"
            ],
            [
             0.8888888888888888,
             "#fdca26"
            ],
            [
             1,
             "#f0f921"
            ]
           ]
          },
          "colorway": [
           "#636efa",
           "#EF553B",
           "#00cc96",
           "#ab63fa",
           "#FFA15A",
           "#19d3f3",
           "#FF6692",
           "#B6E880",
           "#FF97FF",
           "#FECB52"
          ],
          "font": {
           "color": "#2a3f5f"
          },
          "geo": {
           "bgcolor": "white",
           "lakecolor": "white",
           "landcolor": "#E5ECF6",
           "showlakes": true,
           "showland": true,
           "subunitcolor": "white"
          },
          "hoverlabel": {
           "align": "left"
          },
          "hovermode": "closest",
          "mapbox": {
           "style": "light"
          },
          "paper_bgcolor": "white",
          "plot_bgcolor": "#E5ECF6",
          "polar": {
           "angularaxis": {
            "gridcolor": "white",
            "linecolor": "white",
            "ticks": ""
           },
           "bgcolor": "#E5ECF6",
           "radialaxis": {
            "gridcolor": "white",
            "linecolor": "white",
            "ticks": ""
           }
          },
          "scene": {
           "xaxis": {
            "backgroundcolor": "#E5ECF6",
            "gridcolor": "white",
            "gridwidth": 2,
            "linecolor": "white",
            "showbackground": true,
            "ticks": "",
            "zerolinecolor": "white"
           },
           "yaxis": {
            "backgroundcolor": "#E5ECF6",
            "gridcolor": "white",
            "gridwidth": 2,
            "linecolor": "white",
            "showbackground": true,
            "ticks": "",
            "zerolinecolor": "white"
           },
           "zaxis": {
            "backgroundcolor": "#E5ECF6",
            "gridcolor": "white",
            "gridwidth": 2,
            "linecolor": "white",
            "showbackground": true,
            "ticks": "",
            "zerolinecolor": "white"
           }
          },
          "shapedefaults": {
           "line": {
            "color": "#2a3f5f"
           }
          },
          "ternary": {
           "aaxis": {
            "gridcolor": "white",
            "linecolor": "white",
            "ticks": ""
           },
           "baxis": {
            "gridcolor": "white",
            "linecolor": "white",
            "ticks": ""
           },
           "bgcolor": "#E5ECF6",
           "caxis": {
            "gridcolor": "white",
            "linecolor": "white",
            "ticks": ""
           }
          },
          "title": {
           "x": 0.05
          },
          "xaxis": {
           "automargin": true,
           "gridcolor": "white",
           "linecolor": "white",
           "ticks": "",
           "title": {
            "standoff": 15
           },
           "zerolinecolor": "white",
           "zerolinewidth": 2
          },
          "yaxis": {
           "automargin": true,
           "gridcolor": "white",
           "linecolor": "white",
           "ticks": "",
           "title": {
            "standoff": 15
           },
           "zerolinecolor": "white",
           "zerolinewidth": 2
          }
         }
        },
        "yaxis": {
         "title": {
          "text": "[s]"
         }
        }
       }
      }
     },
     "metadata": {},
     "output_type": "display_data"
    }
   ],
   "source": [
    "import plotly.graph_objects as go\n",
    "\n",
    "df_vis=grouped_df.groupby(['cond']).mean().drop(columns='user').reset_index()\n",
    "df_vis[['Cond','temp']]=df_vis.cond.str.split('ss', n=1, expand=True)\n",
    "df_vis[['temp', 'Feature', 'Model']]=df_vis.temp.str.split('_', expand=True)\n",
    "df_vis.Cond = df_vis.Cond+'ss'\n",
    "df_vis.drop(columns=['temp','cond'], inplace=True)\n",
    "df_vis\n",
    "x = [df_vis[df_vis.Model=='KAN'].Cond.values.tolist(),\n",
    "     df_vis[df_vis.Model=='KAN'].Feature.values.tolist()]\n",
    "fig = go.Figure()\n",
    "fig.add_bar(x=x,\n",
    "            y=df_vis[df_vis.Model=='KAN'].train.values.tolist(), \n",
    "            text =df_vis[df_vis.Model=='KAN'].train.values.tolist(), \n",
    "            name='KAN')\n",
    "fig.add_bar(x=x,\n",
    "            y=df_vis[df_vis.Model=='MLP'].train.values.tolist(), \n",
    "            text=df_vis[df_vis.Model=='MLP'].train.values.tolist(), \n",
    "            name='MLP')\n",
    "fig.update_traces(texttemplate='%{text:.0f}', textposition='outside')\n",
    "fig.update_layout(legend_orientation=\"h\", legend=dict(x=0.4, y=1.15), yaxis_title='[s]')\n",
    "fig.show()"
   ]
  },
  {
   "cell_type": "code",
   "execution_count": 89,
   "metadata": {},
   "outputs": [
    {
     "data": {
      "text/html": [
       "<div>\n",
       "<style scoped>\n",
       "    .dataframe tbody tr th:only-of-type {\n",
       "        vertical-align: middle;\n",
       "    }\n",
       "\n",
       "    .dataframe tbody tr th {\n",
       "        vertical-align: top;\n",
       "    }\n",
       "\n",
       "    .dataframe thead th {\n",
       "        text-align: right;\n",
       "    }\n",
       "</style>\n",
       "<table border=\"1\" class=\"dataframe\">\n",
       "  <thead>\n",
       "    <tr style=\"text-align: right;\">\n",
       "      <th></th>\n",
       "      <th>train</th>\n",
       "      <th>pred</th>\n",
       "      <th>Cond</th>\n",
       "      <th>Feature</th>\n",
       "      <th>Model</th>\n",
       "    </tr>\n",
       "  </thead>\n",
       "  <tbody>\n",
       "    <tr>\n",
       "      <th>0</th>\n",
       "      <td>1137.760359</td>\n",
       "      <td>0.004499</td>\n",
       "      <td>multiclass</td>\n",
       "      <td>CSP</td>\n",
       "      <td>KAN</td>\n",
       "    </tr>\n",
       "    <tr>\n",
       "      <th>1</th>\n",
       "      <td>70.049050</td>\n",
       "      <td>0.004609</td>\n",
       "      <td>multiclass</td>\n",
       "      <td>CSP</td>\n",
       "      <td>MLP</td>\n",
       "    </tr>\n",
       "    <tr>\n",
       "      <th>2</th>\n",
       "      <td>3182.690295</td>\n",
       "      <td>8.022047</td>\n",
       "      <td>multiclass</td>\n",
       "      <td>RAW</td>\n",
       "      <td>KAN</td>\n",
       "    </tr>\n",
       "    <tr>\n",
       "      <th>3</th>\n",
       "      <td>209.387070</td>\n",
       "      <td>8.030632</td>\n",
       "      <td>multiclass</td>\n",
       "      <td>RAW</td>\n",
       "      <td>MLP</td>\n",
       "    </tr>\n",
       "    <tr>\n",
       "      <th>4</th>\n",
       "      <td>711.121695</td>\n",
       "      <td>0.075256</td>\n",
       "      <td>two_class</td>\n",
       "      <td>CSP</td>\n",
       "      <td>KAN</td>\n",
       "    </tr>\n",
       "    <tr>\n",
       "      <th>5</th>\n",
       "      <td>49.738878</td>\n",
       "      <td>0.076363</td>\n",
       "      <td>two_class</td>\n",
       "      <td>CSP</td>\n",
       "      <td>MLP</td>\n",
       "    </tr>\n",
       "    <tr>\n",
       "      <th>6</th>\n",
       "      <td>1879.998285</td>\n",
       "      <td>1.413654</td>\n",
       "      <td>two_class</td>\n",
       "      <td>RAW</td>\n",
       "      <td>KAN</td>\n",
       "    </tr>\n",
       "    <tr>\n",
       "      <th>7</th>\n",
       "      <td>183.588510</td>\n",
       "      <td>1.417493</td>\n",
       "      <td>two_class</td>\n",
       "      <td>RAW</td>\n",
       "      <td>MLP</td>\n",
       "    </tr>\n",
       "  </tbody>\n",
       "</table>\n",
       "</div>"
      ],
      "text/plain": [
       "         train      pred        Cond Feature Model\n",
       "0  1137.760359  0.004499  multiclass     CSP   KAN\n",
       "1    70.049050  0.004609  multiclass     CSP   MLP\n",
       "2  3182.690295  8.022047  multiclass     RAW   KAN\n",
       "3   209.387070  8.030632  multiclass     RAW   MLP\n",
       "4   711.121695  0.075256   two_class     CSP   KAN\n",
       "5    49.738878  0.076363   two_class     CSP   MLP\n",
       "6  1879.998285  1.413654   two_class     RAW   KAN\n",
       "7   183.588510  1.417493   two_class     RAW   MLP"
      ]
     },
     "execution_count": 89,
     "metadata": {},
     "output_type": "execute_result"
    }
   ],
   "source": [
    "df_vis"
   ]
  },
  {
   "cell_type": "code",
   "execution_count": 96,
   "metadata": {},
   "outputs": [
    {
     "data": {
      "text/plain": [
       "two_class_RAW_KAN     0.008301\n",
       "two_class_RAW_MLP     0.003200\n",
       "two_class_CSP_KAN     0.113022\n",
       "two_class_CSP_MLP     0.147373\n",
       "multiclass_RAW_KAN    0.006378\n",
       "multiclass_RAW_MLP    0.002872\n",
       "multiclass_CSP_KAN    0.091614\n",
       "multiclass_CSP_MLP    0.111063\n",
       "dtype: float64"
      ]
     },
     "execution_count": 96,
     "metadata": {},
     "output_type": "execute_result"
    }
   ],
   "source": [
    "df_pred.std(axis=0)"
   ]
  }
 ],
 "metadata": {
  "kernelspec": {
   "display_name": "Python 3",
   "language": "python",
   "name": "python3"
  },
  "language_info": {
   "codemirror_mode": {
    "name": "ipython",
    "version": 3
   },
   "file_extension": ".py",
   "mimetype": "text/x-python",
   "name": "python",
   "nbconvert_exporter": "python",
   "pygments_lexer": "ipython3",
   "version": "3.11.1"
  }
 },
 "nbformat": 4,
 "nbformat_minor": 2
}
